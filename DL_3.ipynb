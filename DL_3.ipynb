{
  "nbformat": 4,
  "nbformat_minor": 0,
  "metadata": {
    "colab": {
      "provenance": []
    },
    "kernelspec": {
      "name": "python3",
      "display_name": "Python 3"
    },
    "language_info": {
      "name": "python"
    }
  },
  "cells": [
    {
      "cell_type": "code",
      "execution_count": 1,
      "metadata": {
        "id": "wCD978N5wtXe"
      },
      "outputs": [],
      "source": [
        "import numpy as np\n",
        "import pandas as pd\n",
        "import matplotlib.pyplot as plt\n",
        "import seaborn as sns\n",
        "import warnings\n",
        "import datetime\n",
        "import seaborn as sns\n",
        "from sklearn.preprocessing import MinMaxScaler\n",
        "from sklearn.decomposition import PCA\n",
        "from sklearn.model_selection import train_test_split\n",
        "from tensorflow.keras import Sequential\n",
        "from tensorflow.keras.layers import Dense\n",
        "from tensorflow.keras.layers import LSTM\n",
        "from sklearn.metrics import r2_score"
      ]
    },
    {
      "cell_type": "code",
      "source": [
        "data=pd.read_csv(\"/content/Google_Stock_Price_Train.csv\")\n",
        "data"
      ],
      "metadata": {
        "colab": {
          "base_uri": "https://localhost:8080/",
          "height": 424
        },
        "id": "3TtbpmLmwxbG",
        "outputId": "f1977337-3f0d-4c08-d2d7-49e455d41bed"
      },
      "execution_count": 2,
      "outputs": [
        {
          "output_type": "execute_result",
          "data": {
            "text/plain": [
              "            Date    Open    High     Low   Close      Volume\n",
              "0       1/3/2012  325.25  332.83  324.97  663.59   7,380,500\n",
              "1       1/4/2012  331.27  333.87  329.08  666.45   5,749,400\n",
              "2       1/5/2012  329.83  330.75  326.89  657.21   6,590,300\n",
              "3       1/6/2012  328.34  328.77  323.68  648.24   5,405,900\n",
              "4       1/9/2012  322.04  322.29  309.46  620.76  11,688,800\n",
              "...          ...     ...     ...     ...     ...         ...\n",
              "1253  12/23/2016  790.90  792.74  787.28  789.91     623,400\n",
              "1254  12/27/2016  790.68  797.86  787.66  791.55     789,100\n",
              "1255  12/28/2016  793.70  794.23  783.20  785.05   1,153,800\n",
              "1256  12/29/2016  783.33  785.93  778.92  782.79     744,300\n",
              "1257  12/30/2016  782.75  782.78  770.41  771.82   1,770,000\n",
              "\n",
              "[1258 rows x 6 columns]"
            ],
            "text/html": [
              "\n",
              "  <div id=\"df-6de062b9-76d8-4a6b-a677-368b208348f3\">\n",
              "    <div class=\"colab-df-container\">\n",
              "      <div>\n",
              "<style scoped>\n",
              "    .dataframe tbody tr th:only-of-type {\n",
              "        vertical-align: middle;\n",
              "    }\n",
              "\n",
              "    .dataframe tbody tr th {\n",
              "        vertical-align: top;\n",
              "    }\n",
              "\n",
              "    .dataframe thead th {\n",
              "        text-align: right;\n",
              "    }\n",
              "</style>\n",
              "<table border=\"1\" class=\"dataframe\">\n",
              "  <thead>\n",
              "    <tr style=\"text-align: right;\">\n",
              "      <th></th>\n",
              "      <th>Date</th>\n",
              "      <th>Open</th>\n",
              "      <th>High</th>\n",
              "      <th>Low</th>\n",
              "      <th>Close</th>\n",
              "      <th>Volume</th>\n",
              "    </tr>\n",
              "  </thead>\n",
              "  <tbody>\n",
              "    <tr>\n",
              "      <th>0</th>\n",
              "      <td>1/3/2012</td>\n",
              "      <td>325.25</td>\n",
              "      <td>332.83</td>\n",
              "      <td>324.97</td>\n",
              "      <td>663.59</td>\n",
              "      <td>7,380,500</td>\n",
              "    </tr>\n",
              "    <tr>\n",
              "      <th>1</th>\n",
              "      <td>1/4/2012</td>\n",
              "      <td>331.27</td>\n",
              "      <td>333.87</td>\n",
              "      <td>329.08</td>\n",
              "      <td>666.45</td>\n",
              "      <td>5,749,400</td>\n",
              "    </tr>\n",
              "    <tr>\n",
              "      <th>2</th>\n",
              "      <td>1/5/2012</td>\n",
              "      <td>329.83</td>\n",
              "      <td>330.75</td>\n",
              "      <td>326.89</td>\n",
              "      <td>657.21</td>\n",
              "      <td>6,590,300</td>\n",
              "    </tr>\n",
              "    <tr>\n",
              "      <th>3</th>\n",
              "      <td>1/6/2012</td>\n",
              "      <td>328.34</td>\n",
              "      <td>328.77</td>\n",
              "      <td>323.68</td>\n",
              "      <td>648.24</td>\n",
              "      <td>5,405,900</td>\n",
              "    </tr>\n",
              "    <tr>\n",
              "      <th>4</th>\n",
              "      <td>1/9/2012</td>\n",
              "      <td>322.04</td>\n",
              "      <td>322.29</td>\n",
              "      <td>309.46</td>\n",
              "      <td>620.76</td>\n",
              "      <td>11,688,800</td>\n",
              "    </tr>\n",
              "    <tr>\n",
              "      <th>...</th>\n",
              "      <td>...</td>\n",
              "      <td>...</td>\n",
              "      <td>...</td>\n",
              "      <td>...</td>\n",
              "      <td>...</td>\n",
              "      <td>...</td>\n",
              "    </tr>\n",
              "    <tr>\n",
              "      <th>1253</th>\n",
              "      <td>12/23/2016</td>\n",
              "      <td>790.90</td>\n",
              "      <td>792.74</td>\n",
              "      <td>787.28</td>\n",
              "      <td>789.91</td>\n",
              "      <td>623,400</td>\n",
              "    </tr>\n",
              "    <tr>\n",
              "      <th>1254</th>\n",
              "      <td>12/27/2016</td>\n",
              "      <td>790.68</td>\n",
              "      <td>797.86</td>\n",
              "      <td>787.66</td>\n",
              "      <td>791.55</td>\n",
              "      <td>789,100</td>\n",
              "    </tr>\n",
              "    <tr>\n",
              "      <th>1255</th>\n",
              "      <td>12/28/2016</td>\n",
              "      <td>793.70</td>\n",
              "      <td>794.23</td>\n",
              "      <td>783.20</td>\n",
              "      <td>785.05</td>\n",
              "      <td>1,153,800</td>\n",
              "    </tr>\n",
              "    <tr>\n",
              "      <th>1256</th>\n",
              "      <td>12/29/2016</td>\n",
              "      <td>783.33</td>\n",
              "      <td>785.93</td>\n",
              "      <td>778.92</td>\n",
              "      <td>782.79</td>\n",
              "      <td>744,300</td>\n",
              "    </tr>\n",
              "    <tr>\n",
              "      <th>1257</th>\n",
              "      <td>12/30/2016</td>\n",
              "      <td>782.75</td>\n",
              "      <td>782.78</td>\n",
              "      <td>770.41</td>\n",
              "      <td>771.82</td>\n",
              "      <td>1,770,000</td>\n",
              "    </tr>\n",
              "  </tbody>\n",
              "</table>\n",
              "<p>1258 rows × 6 columns</p>\n",
              "</div>\n",
              "      <button class=\"colab-df-convert\" onclick=\"convertToInteractive('df-6de062b9-76d8-4a6b-a677-368b208348f3')\"\n",
              "              title=\"Convert this dataframe to an interactive table.\"\n",
              "              style=\"display:none;\">\n",
              "        \n",
              "  <svg xmlns=\"http://www.w3.org/2000/svg\" height=\"24px\"viewBox=\"0 0 24 24\"\n",
              "       width=\"24px\">\n",
              "    <path d=\"M0 0h24v24H0V0z\" fill=\"none\"/>\n",
              "    <path d=\"M18.56 5.44l.94 2.06.94-2.06 2.06-.94-2.06-.94-.94-2.06-.94 2.06-2.06.94zm-11 1L8.5 8.5l.94-2.06 2.06-.94-2.06-.94L8.5 2.5l-.94 2.06-2.06.94zm10 10l.94 2.06.94-2.06 2.06-.94-2.06-.94-.94-2.06-.94 2.06-2.06.94z\"/><path d=\"M17.41 7.96l-1.37-1.37c-.4-.4-.92-.59-1.43-.59-.52 0-1.04.2-1.43.59L10.3 9.45l-7.72 7.72c-.78.78-.78 2.05 0 2.83L4 21.41c.39.39.9.59 1.41.59.51 0 1.02-.2 1.41-.59l7.78-7.78 2.81-2.81c.8-.78.8-2.07 0-2.86zM5.41 20L4 18.59l7.72-7.72 1.47 1.35L5.41 20z\"/>\n",
              "  </svg>\n",
              "      </button>\n",
              "      \n",
              "  <style>\n",
              "    .colab-df-container {\n",
              "      display:flex;\n",
              "      flex-wrap:wrap;\n",
              "      gap: 12px;\n",
              "    }\n",
              "\n",
              "    .colab-df-convert {\n",
              "      background-color: #E8F0FE;\n",
              "      border: none;\n",
              "      border-radius: 50%;\n",
              "      cursor: pointer;\n",
              "      display: none;\n",
              "      fill: #1967D2;\n",
              "      height: 32px;\n",
              "      padding: 0 0 0 0;\n",
              "      width: 32px;\n",
              "    }\n",
              "\n",
              "    .colab-df-convert:hover {\n",
              "      background-color: #E2EBFA;\n",
              "      box-shadow: 0px 1px 2px rgba(60, 64, 67, 0.3), 0px 1px 3px 1px rgba(60, 64, 67, 0.15);\n",
              "      fill: #174EA6;\n",
              "    }\n",
              "\n",
              "    [theme=dark] .colab-df-convert {\n",
              "      background-color: #3B4455;\n",
              "      fill: #D2E3FC;\n",
              "    }\n",
              "\n",
              "    [theme=dark] .colab-df-convert:hover {\n",
              "      background-color: #434B5C;\n",
              "      box-shadow: 0px 1px 3px 1px rgba(0, 0, 0, 0.15);\n",
              "      filter: drop-shadow(0px 1px 2px rgba(0, 0, 0, 0.3));\n",
              "      fill: #FFFFFF;\n",
              "    }\n",
              "  </style>\n",
              "\n",
              "      <script>\n",
              "        const buttonEl =\n",
              "          document.querySelector('#df-6de062b9-76d8-4a6b-a677-368b208348f3 button.colab-df-convert');\n",
              "        buttonEl.style.display =\n",
              "          google.colab.kernel.accessAllowed ? 'block' : 'none';\n",
              "\n",
              "        async function convertToInteractive(key) {\n",
              "          const element = document.querySelector('#df-6de062b9-76d8-4a6b-a677-368b208348f3');\n",
              "          const dataTable =\n",
              "            await google.colab.kernel.invokeFunction('convertToInteractive',\n",
              "                                                     [key], {});\n",
              "          if (!dataTable) return;\n",
              "\n",
              "          const docLinkHtml = 'Like what you see? Visit the ' +\n",
              "            '<a target=\"_blank\" href=https://colab.research.google.com/notebooks/data_table.ipynb>data table notebook</a>'\n",
              "            + ' to learn more about interactive tables.';\n",
              "          element.innerHTML = '';\n",
              "          dataTable['output_type'] = 'display_data';\n",
              "          await google.colab.output.renderOutput(dataTable, element);\n",
              "          const docLink = document.createElement('div');\n",
              "          docLink.innerHTML = docLinkHtml;\n",
              "          element.appendChild(docLink);\n",
              "        }\n",
              "      </script>\n",
              "    </div>\n",
              "  </div>\n",
              "  "
            ]
          },
          "metadata": {},
          "execution_count": 2
        }
      ]
    },
    {
      "cell_type": "code",
      "source": [
        "data['Close']=data['Close'].str.replace(',','').astype(float)\n",
        "data['Volume']=data['Volume'].str.replace(',','').astype(float)"
      ],
      "metadata": {
        "id": "exqJEm0Fw5gn"
      },
      "execution_count": 3,
      "outputs": []
    },
    {
      "cell_type": "code",
      "source": [
        "data[['Open','High','Low','Close','Volume']].plot(kind= 'box' ,layout=(1,5),subplots=True)\n",
        "plt.show()"
      ],
      "metadata": {
        "colab": {
          "base_uri": "https://localhost:8080/",
          "height": 445
        },
        "id": "vJES2itew9kM",
        "outputId": "32f03bc6-3a75-447b-a9a7-83a14b1b3d21"
      },
      "execution_count": 5,
      "outputs": [
        {
          "output_type": "display_data",
          "data": {
            "text/plain": [
              "<Figure size 640x480 with 5 Axes>"
            ],
            "image/png": "[encoded data removed]"
          },
          "metadata": {}
        }
      ]
    },
    {
      "cell_type": "code",
      "source": [
        "scaler = MinMaxScaler()\n",
        "data_without_date = data[['Open','High','Low','Close','Volume']]\n",
        "data_scaled = pd.DataFrame(scaler.fit_transform(data_without_date))"
      ],
      "metadata": {
        "id": "FlLTsnYFxL-C"
      },
      "execution_count": 6,
      "outputs": []
    },
    {
      "cell_type": "code",
      "source": [
        "data_scaled"
      ],
      "metadata": {
        "colab": {
          "base_uri": "https://localhost:8080/",
          "height": 424
        },
        "id": "3h0wvSz8xOZI",
        "outputId": "906723d7-3e1d-41e1-ee01-b88a0cb695c7"
      },
      "execution_count": 7,
      "outputs": [
        {
          "output_type": "execute_result",
          "data": {
            "text/plain": [
              "             0         1         2         3         4\n",
              "0     0.085814  0.096401  0.090449  0.237573  0.295258\n",
              "1     0.097012  0.098344  0.098235  0.241514  0.229936\n",
              "2     0.094334  0.092517  0.094086  0.228781  0.263612\n",
              "3     0.091562  0.088819  0.088006  0.216419  0.216179\n",
              "4     0.079842  0.076718  0.061070  0.178548  0.467797\n",
              "...        ...       ...       ...       ...       ...\n",
              "1253  0.952043  0.955292  0.966169  0.411656  0.024650\n",
              "1254  0.951633  0.964853  0.966889  0.413916  0.031286\n",
              "1255  0.957251  0.958074  0.958441  0.404958  0.045891\n",
              "1256  0.937960  0.942574  0.950333  0.401844  0.029491\n",
              "1257  0.936881  0.936691  0.934214  0.386726  0.070569\n",
              "\n",
              "[1258 rows x 5 columns]"
            ],
            "text/html": [
              "\n",
              "  <div id=\"df-302f3718-c7c4-4ea0-be6d-c7b70ce4ba48\">\n",
              "    <div class=\"colab-df-container\">\n",
              "      <div>\n",
              "<style scoped>\n",
              "    .dataframe tbody tr th:only-of-type {\n",
              "        vertical-align: middle;\n",
              "    }\n",
              "\n",
              "    .dataframe tbody tr th {\n",
              "        vertical-align: top;\n",
              "    }\n",
              "\n",
              "    .dataframe thead th {\n",
              "        text-align: right;\n",
              "    }\n",
              "</style>\n",
              "<table border=\"1\" class=\"dataframe\">\n",
              "  <thead>\n",
              "    <tr style=\"text-align: right;\">\n",
              "      <th></th>\n",
              "      <th>0</th>\n",
              "      <th>1</th>\n",
              "      <th>2</th>\n",
              "      <th>3</th>\n",
              "      <th>4</th>\n",
              "    </tr>\n",
              "  </thead>\n",
              "  <tbody>\n",
              "    <tr>\n",
              "      <th>0</th>\n",
              "      <td>0.085814</td>\n",
              "      <td>0.096401</td>\n",
              "      <td>0.090449</td>\n",
              "      <td>0.237573</td>\n",
              "      <td>0.295258</td>\n",
              "    </tr>\n",
              "    <tr>\n",
              "      <th>1</th>\n",
              "      <td>0.097012</td>\n",
              "      <td>0.098344</td>\n",
              "      <td>0.098235</td>\n",
              "      <td>0.241514</td>\n",
              "      <td>0.229936</td>\n",
              "    </tr>\n",
              "    <tr>\n",
              "      <th>2</th>\n",
              "      <td>0.094334</td>\n",
              "      <td>0.092517</td>\n",
              "      <td>0.094086</td>\n",
              "      <td>0.228781</td>\n",
              "      <td>0.263612</td>\n",
              "    </tr>\n",
              "    <tr>\n",
              "      <th>3</th>\n",
              "      <td>0.091562</td>\n",
              "      <td>0.088819</td>\n",
              "      <td>0.088006</td>\n",
              "      <td>0.216419</td>\n",
              "      <td>0.216179</td>\n",
              "    </tr>\n",
              "    <tr>\n",
              "      <th>4</th>\n",
              "      <td>0.079842</td>\n",
              "      <td>0.076718</td>\n",
              "      <td>0.061070</td>\n",
              "      <td>0.178548</td>\n",
              "      <td>0.467797</td>\n",
              "    </tr>\n",
              "    <tr>\n",
              "      <th>...</th>\n",
              "      <td>...</td>\n",
              "      <td>...</td>\n",
              "      <td>...</td>\n",
              "      <td>...</td>\n",
              "      <td>...</td>\n",
              "    </tr>\n",
              "    <tr>\n",
              "      <th>1253</th>\n",
              "      <td>0.952043</td>\n",
              "      <td>0.955292</td>\n",
              "      <td>0.966169</td>\n",
              "      <td>0.411656</td>\n",
              "      <td>0.024650</td>\n",
              "    </tr>\n",
              "    <tr>\n",
              "      <th>1254</th>\n",
              "      <td>0.951633</td>\n",
              "      <td>0.964853</td>\n",
              "      <td>0.966889</td>\n",
              "      <td>0.413916</td>\n",
              "      <td>0.031286</td>\n",
              "    </tr>\n",
              "    <tr>\n",
              "      <th>1255</th>\n",
              "      <td>0.957251</td>\n",
              "      <td>0.958074</td>\n",
              "      <td>0.958441</td>\n",
              "      <td>0.404958</td>\n",
              "      <td>0.045891</td>\n",
              "    </tr>\n",
              "    <tr>\n",
              "      <th>1256</th>\n",
              "      <td>0.937960</td>\n",
              "      <td>0.942574</td>\n",
              "      <td>0.950333</td>\n",
              "      <td>0.401844</td>\n",
              "      <td>0.029491</td>\n",
              "    </tr>\n",
              "    <tr>\n",
              "      <th>1257</th>\n",
              "      <td>0.936881</td>\n",
              "      <td>0.936691</td>\n",
              "      <td>0.934214</td>\n",
              "      <td>0.386726</td>\n",
              "      <td>0.070569</td>\n",
              "    </tr>\n",
              "  </tbody>\n",
              "</table>\n",
              "<p>1258 rows × 5 columns</p>\n",
              "</div>\n",
              "      <button class=\"colab-df-convert\" onclick=\"convertToInteractive('df-302f3718-c7c4-4ea0-be6d-c7b70ce4ba48')\"\n",
              "              title=\"Convert this dataframe to an interactive table.\"\n",
              "              style=\"display:none;\">\n",
              "        \n",
              "  <svg xmlns=\"http://www.w3.org/2000/svg\" height=\"24px\"viewBox=\"0 0 24 24\"\n",
              "       width=\"24px\">\n",
              "    <path d=\"M0 0h24v24H0V0z\" fill=\"none\"/>\n",
              "    <path d=\"M18.56 5.44l.94 2.06.94-2.06 2.06-.94-2.06-.94-.94-2.06-.94 2.06-2.06.94zm-11 1L8.5 8.5l.94-2.06 2.06-.94-2.06-.94L8.5 2.5l-.94 2.06-2.06.94zm10 10l.94 2.06.94-2.06 2.06-.94-2.06-.94-.94-2.06-.94 2.06-2.06.94z\"/><path d=\"M17.41 7.96l-1.37-1.37c-.4-.4-.92-.59-1.43-.59-.52 0-1.04.2-1.43.59L10.3 9.45l-7.72 7.72c-.78.78-.78 2.05 0 2.83L4 21.41c.39.39.9.59 1.41.59.51 0 1.02-.2 1.41-.59l7.78-7.78 2.81-2.81c.8-.78.8-2.07 0-2.86zM5.41 20L4 18.59l7.72-7.72 1.47 1.35L5.41 20z\"/>\n",
              "  </svg>\n",
              "      </button>\n",
              "      \n",
              "  <style>\n",
              "    .colab-df-container {\n",
              "      display:flex;\n",
              "      flex-wrap:wrap;\n",
              "      gap: 12px;\n",
              "    }\n",
              "\n",
              "    .colab-df-convert {\n",
              "      background-color: #E8F0FE;\n",
              "      border: none;\n",
              "      border-radius: 50%;\n",
              "      cursor: pointer;\n",
              "      display: none;\n",
              "      fill: #1967D2;\n",
              "      height: 32px;\n",
              "      padding: 0 0 0 0;\n",
              "      width: 32px;\n",
              "    }\n",
              "\n",
              "    .colab-df-convert:hover {\n",
              "      background-color: #E2EBFA;\n",
              "      box-shadow: 0px 1px 2px rgba(60, 64, 67, 0.3), 0px 1px 3px 1px rgba(60, 64, 67, 0.15);\n",
              "      fill: #174EA6;\n",
              "    }\n",
              "\n",
              "    [theme=dark] .colab-df-convert {\n",
              "      background-color: #3B4455;\n",
              "      fill: #D2E3FC;\n",
              "    }\n",
              "\n",
              "    [theme=dark] .colab-df-convert:hover {\n",
              "      background-color: #434B5C;\n",
              "      box-shadow: 0px 1px 3px 1px rgba(0, 0, 0, 0.15);\n",
              "      filter: drop-shadow(0px 1px 2px rgba(0, 0, 0, 0.3));\n",
              "      fill: #FFFFFF;\n",
              "    }\n",
              "  </style>\n",
              "\n",
              "      <script>\n",
              "        const buttonEl =\n",
              "          document.querySelector('#df-302f3718-c7c4-4ea0-be6d-c7b70ce4ba48 button.colab-df-convert');\n",
              "        buttonEl.style.display =\n",
              "          google.colab.kernel.accessAllowed ? 'block' : 'none';\n",
              "\n",
              "        async function convertToInteractive(key) {\n",
              "          const element = document.querySelector('#df-302f3718-c7c4-4ea0-be6d-c7b70ce4ba48');\n",
              "          const dataTable =\n",
              "            await google.colab.kernel.invokeFunction('convertToInteractive',\n",
              "                                                     [key], {});\n",
              "          if (!dataTable) return;\n",
              "\n",
              "          const docLinkHtml = 'Like what you see? Visit the ' +\n",
              "            '<a target=\"_blank\" href=https://colab.research.google.com/notebooks/data_table.ipynb>data table notebook</a>'\n",
              "            + ' to learn more about interactive tables.';\n",
              "          element.innerHTML = '';\n",
              "          dataTable['output_type'] = 'display_data';\n",
              "          await google.colab.output.renderOutput(dataTable, element);\n",
              "          const docLink = document.createElement('div');\n",
              "          docLink.innerHTML = docLinkHtml;\n",
              "          element.appendChild(docLink);\n",
              "        }\n",
              "      </script>\n",
              "    </div>\n",
              "  </div>\n",
              "  "
            ]
          },
          "metadata": {},
          "execution_count": 7
        }
      ]
    },
    {
      "cell_type": "code",
      "source": [
        "plt.figure(figsize=(6,6))\n",
        "sns.heatmap(data.corr())"
      ],
      "metadata": {
        "colab": {
          "base_uri": "https://localhost:8080/",
          "height": 600
        },
        "id": "b_kH5S7PxVYD",
        "outputId": "09eb17f3-bbc3-4def-9943-05a1b3600154"
      },
      "execution_count": 8,
      "outputs": [
        {
          "output_type": "stream",
          "name": "stderr",
          "text": [
            "<ipython-input-8-373595b0d5cd>:2: FutureWarning: The default value of numeric_only in DataFrame.corr is deprecated. In a future version, it will default to False. Select only valid columns or specify the value of numeric_only to silence this warning.\n",
            "  sns.heatmap(data.corr())\n"
          ]
        },
        {
          "output_type": "execute_result",
          "data": {
            "text/plain": [
              "<Axes: >"
            ]
          },
          "metadata": {},
          "execution_count": 8
        },
        {
          "output_type": "display_data",
          "data": {
            "text/plain": [
              "<Figure size 600x600 with 2 Axes>"
            ],
            "image/png": "[encoded data removed]"
          },
          "metadata": {}
        }
      ]
    },
    {
      "cell_type": "code",
      "source": [
        "data_scaled=data_scaled.drop([1,2,4], axis=1)\n",
        "data_scaled"
      ],
      "metadata": {
        "colab": {
          "base_uri": "https://localhost:8080/",
          "height": 424
        },
        "id": "Lpx0_y9AxZNz",
        "outputId": "a5ac4fe6-7f44-4bc8-c2f8-ecb962e666c4"
      },
      "execution_count": 9,
      "outputs": [
        {
          "output_type": "execute_result",
          "data": {
            "text/plain": [
              "             0         3\n",
              "0     0.085814  0.237573\n",
              "1     0.097012  0.241514\n",
              "2     0.094334  0.228781\n",
              "3     0.091562  0.216419\n",
              "4     0.079842  0.178548\n",
              "...        ...       ...\n",
              "1253  0.952043  0.411656\n",
              "1254  0.951633  0.413916\n",
              "1255  0.957251  0.404958\n",
              "1256  0.937960  0.401844\n",
              "1257  0.936881  0.386726\n",
              "\n",
              "[1258 rows x 2 columns]"
            ],
            "text/html": [
              "\n",
              "  <div id=\"df-b4bfd852-e387-46d7-bef6-f0b7b325dfc5\">\n",
              "    <div class=\"colab-df-container\">\n",
              "      <div>\n",
              "<style scoped>\n",
              "    .dataframe tbody tr th:only-of-type {\n",
              "        vertical-align: middle;\n",
              "    }\n",
              "\n",
              "    .dataframe tbody tr th {\n",
              "        vertical-align: top;\n",
              "    }\n",
              "\n",
              "    .dataframe thead th {\n",
              "        text-align: right;\n",
              "    }\n",
              "</style>\n",
              "<table border=\"1\" class=\"dataframe\">\n",
              "  <thead>\n",
              "    <tr style=\"text-align: right;\">\n",
              "      <th></th>\n",
              "      <th>0</th>\n",
              "      <th>3</th>\n",
              "    </tr>\n",
              "  </thead>\n",
              "  <tbody>\n",
              "    <tr>\n",
              "      <th>0</th>\n",
              "      <td>0.085814</td>\n",
              "      <td>0.237573</td>\n",
              "    </tr>\n",
              "    <tr>\n",
              "      <th>1</th>\n",
              "      <td>0.097012</td>\n",
              "      <td>0.241514</td>\n",
              "    </tr>\n",
              "    <tr>\n",
              "      <th>2</th>\n",
              "      <td>0.094334</td>\n",
              "      <td>0.228781</td>\n",
              "    </tr>\n",
              "    <tr>\n",
              "      <th>3</th>\n",
              "      <td>0.091562</td>\n",
              "      <td>0.216419</td>\n",
              "    </tr>\n",
              "    <tr>\n",
              "      <th>4</th>\n",
              "      <td>0.079842</td>\n",
              "      <td>0.178548</td>\n",
              "    </tr>\n",
              "    <tr>\n",
              "      <th>...</th>\n",
              "      <td>...</td>\n",
              "      <td>...</td>\n",
              "    </tr>\n",
              "    <tr>\n",
              "      <th>1253</th>\n",
              "      <td>0.952043</td>\n",
              "      <td>0.411656</td>\n",
              "    </tr>\n",
              "    <tr>\n",
              "      <th>1254</th>\n",
              "      <td>0.951633</td>\n",
              "      <td>0.413916</td>\n",
              "    </tr>\n",
              "    <tr>\n",
              "      <th>1255</th>\n",
              "      <td>0.957251</td>\n",
              "      <td>0.404958</td>\n",
              "    </tr>\n",
              "    <tr>\n",
              "      <th>1256</th>\n",
              "      <td>0.937960</td>\n",
              "      <td>0.401844</td>\n",
              "    </tr>\n",
              "    <tr>\n",
              "      <th>1257</th>\n",
              "      <td>0.936881</td>\n",
              "      <td>0.386726</td>\n",
              "    </tr>\n",
              "  </tbody>\n",
              "</table>\n",
              "<p>1258 rows × 2 columns</p>\n",
              "</div>\n",
              "      <button class=\"colab-df-convert\" onclick=\"convertToInteractive('df-b4bfd852-e387-46d7-bef6-f0b7b325dfc5')\"\n",
              "              title=\"Convert this dataframe to an interactive table.\"\n",
              "              style=\"display:none;\">\n",
              "        \n",
              "  <svg xmlns=\"http://www.w3.org/2000/svg\" height=\"24px\"viewBox=\"0 0 24 24\"\n",
              "       width=\"24px\">\n",
              "    <path d=\"M0 0h24v24H0V0z\" fill=\"none\"/>\n",
              "    <path d=\"M18.56 5.44l.94 2.06.94-2.06 2.06-.94-2.06-.94-.94-2.06-.94 2.06-2.06.94zm-11 1L8.5 8.5l.94-2.06 2.06-.94-2.06-.94L8.5 2.5l-.94 2.06-2.06.94zm10 10l.94 2.06.94-2.06 2.06-.94-2.06-.94-.94-2.06-.94 2.06-2.06.94z\"/><path d=\"M17.41 7.96l-1.37-1.37c-.4-.4-.92-.59-1.43-.59-.52 0-1.04.2-1.43.59L10.3 9.45l-7.72 7.72c-.78.78-.78 2.05 0 2.83L4 21.41c.39.39.9.59 1.41.59.51 0 1.02-.2 1.41-.59l7.78-7.78 2.81-2.81c.8-.78.8-2.07 0-2.86zM5.41 20L4 18.59l7.72-7.72 1.47 1.35L5.41 20z\"/>\n",
              "  </svg>\n",
              "      </button>\n",
              "      \n",
              "  <style>\n",
              "    .colab-df-container {\n",
              "      display:flex;\n",
              "      flex-wrap:wrap;\n",
              "      gap: 12px;\n",
              "    }\n",
              "\n",
              "    .colab-df-convert {\n",
              "      background-color: #E8F0FE;\n",
              "      border: none;\n",
              "      border-radius: 50%;\n",
              "      cursor: pointer;\n",
              "      display: none;\n",
              "      fill: #1967D2;\n",
              "      height: 32px;\n",
              "      padding: 0 0 0 0;\n",
              "      width: 32px;\n",
              "    }\n",
              "\n",
              "    .colab-df-convert:hover {\n",
              "      background-color: #E2EBFA;\n",
              "      box-shadow: 0px 1px 2px rgba(60, 64, 67, 0.3), 0px 1px 3px 1px rgba(60, 64, 67, 0.15);\n",
              "      fill: #174EA6;\n",
              "    }\n",
              "\n",
              "    [theme=dark] .colab-df-convert {\n",
              "      background-color: #3B4455;\n",
              "      fill: #D2E3FC;\n",
              "    }\n",
              "\n",
              "    [theme=dark] .colab-df-convert:hover {\n",
              "      background-color: #434B5C;\n",
              "      box-shadow: 0px 1px 3px 1px rgba(0, 0, 0, 0.15);\n",
              "      filter: drop-shadow(0px 1px 2px rgba(0, 0, 0, 0.3));\n",
              "      fill: #FFFFFF;\n",
              "    }\n",
              "  </style>\n",
              "\n",
              "      <script>\n",
              "        const buttonEl =\n",
              "          document.querySelector('#df-b4bfd852-e387-46d7-bef6-f0b7b325dfc5 button.colab-df-convert');\n",
              "        buttonEl.style.display =\n",
              "          google.colab.kernel.accessAllowed ? 'block' : 'none';\n",
              "\n",
              "        async function convertToInteractive(key) {\n",
              "          const element = document.querySelector('#df-b4bfd852-e387-46d7-bef6-f0b7b325dfc5');\n",
              "          const dataTable =\n",
              "            await google.colab.kernel.invokeFunction('convertToInteractive',\n",
              "                                                     [key], {});\n",
              "          if (!dataTable) return;\n",
              "\n",
              "          const docLinkHtml = 'Like what you see? Visit the ' +\n",
              "            '<a target=\"_blank\" href=https://colab.research.google.com/notebooks/data_table.ipynb>data table notebook</a>'\n",
              "            + ' to learn more about interactive tables.';\n",
              "          element.innerHTML = '';\n",
              "          dataTable['output_type'] = 'display_data';\n",
              "          await google.colab.output.renderOutput(dataTable, element);\n",
              "          const docLink = document.createElement('div');\n",
              "          docLink.innerHTML = docLinkHtml;\n",
              "          element.appendChild(docLink);\n",
              "        }\n",
              "      </script>\n",
              "    </div>\n",
              "  </div>\n",
              "  "
            ]
          },
          "metadata": {},
          "execution_count": 9
        }
      ]
    },
    {
      "cell_type": "code",
      "source": [
        "def split_seq_multivariate(sequence, n_past, n_future):\n",
        "\n",
        "  x, y = [], []\n",
        "  for window_start in range(len(sequence)):\n",
        "      past_end = window_start + n_past\n",
        "      future_end = past_end + n_future\n",
        "      if future_end > len(sequence):\n",
        "        break\n",
        "      # slicing the past and future parts of the window\n",
        "      past = sequence[window_start:past_end, :]\n",
        "      future = sequence[past_end:future_end, -1]\n",
        "      x.append(past)\n",
        "      y.append(future)\n",
        "  return np.array(x), np.array(y)"
      ],
      "metadata": {
        "id": "1FNTvKFaxb5H"
      },
      "execution_count": 13,
      "outputs": []
    },
    {
      "cell_type": "code",
      "source": [
        "# specify the window size\n",
        "n_steps = 60\n",
        "data_scaled = data_scaled.to_numpy()\n",
        "data_scaled.shape"
      ],
      "metadata": {
        "colab": {
          "base_uri": "https://localhost:8080/"
        },
        "id": "uYTU03JKxvT6",
        "outputId": "2633afcf-0097-4776-b998-122143eedd31"
      },
      "execution_count": 14,
      "outputs": [
        {
          "output_type": "execute_result",
          "data": {
            "text/plain": [
              "(1258, 2)"
            ]
          },
          "metadata": {},
          "execution_count": 14
        }
      ]
    },
    {
      "cell_type": "code",
      "source": [
        "X, y = split_seq_multivariate(data_scaled, n_steps,1)"
      ],
      "metadata": {
        "id": "KMUy4VBTxxZy"
      },
      "execution_count": 15,
      "outputs": []
    },
    {
      "cell_type": "code",
      "source": [
        "# X is in the shape of [samples, timesteps, features]\n",
        "print(X.shape)\n",
        "print(y.shape)\n",
        "# make y to the shape of [samples]\n",
        "y=y[:,0]\n",
        "y.shape"
      ],
      "metadata": {
        "colab": {
          "base_uri": "https://localhost:8080/"
        },
        "id": "Xc_4-7gDx06c",
        "outputId": "577b81fd-b5dc-4d88-a319-b7af470dd92e"
      },
      "execution_count": 16,
      "outputs": [
        {
          "output_type": "stream",
          "name": "stdout",
          "text": [
            "(1198, 60, 2)\n",
            "(1198, 1)\n"
          ]
        },
        {
          "output_type": "execute_result",
          "data": {
            "text/plain": [
              "(1198,)"
            ]
          },
          "metadata": {},
          "execution_count": 16
        }
      ]
    },
    {
      "cell_type": "code",
      "source": [
        "# split into train/test\n",
        "X_train, X_test, y_train, y_test = train_test_split(X,y,test_size=0.2,random_state=50)\n",
        "print(X_train.shape, X_test.shape, y_train.shape, y_test.shape)"
      ],
      "metadata": {
        "colab": {
          "base_uri": "https://localhost:8080/"
        },
        "id": "xqct5Erkx3Tk",
        "outputId": "e51bdba0-2334-4a8e-9f95-44049a0a430f"
      },
      "execution_count": 17,
      "outputs": [
        {
          "output_type": "stream",
          "name": "stdout",
          "text": [
            "(958, 60, 2) (240, 60, 2) (958,) (240,)\n"
          ]
        }
      ]
    },
    {
      "cell_type": "code",
      "source": [
        "# further dividing the training set into train and validation data\n",
        "X_train, X_val, y_train, y_val = train_test_split(X_train,y_train,test_size=0.2,random_state=30)"
      ],
      "metadata": {
        "id": "jAjWb5Ctx57-"
      },
      "execution_count": 19,
      "outputs": []
    },
    {
      "cell_type": "code",
      "source": [
        "# define RNN model\n",
        "model = Sequential()\n",
        "model.add(LSTM(612, input_shape=(n_steps,2)))\n",
        "model.add(Dense(50, activation='relu'))\n",
        "model.add(Dense(50, activation='relu'))\n",
        "model.add(Dense(30, activation='relu'))\n",
        "model.add(Dense(1))"
      ],
      "metadata": {
        "id": "g6hNJg6Rx_ku"
      },
      "execution_count": 20,
      "outputs": []
    },
    {
      "cell_type": "code",
      "source": [
        "model.summary()"
      ],
      "metadata": {
        "colab": {
          "base_uri": "https://localhost:8080/"
        },
        "id": "Te2WaBx7yIvK",
        "outputId": "9a123f44-f47c-4415-d65c-1cfc06b838ab"
      },
      "execution_count": 21,
      "outputs": [
        {
          "output_type": "stream",
          "name": "stdout",
          "text": [
            "Model: \"sequential\"\n",
            "_________________________________________________________________\n",
            " Layer (type)                Output Shape              Param #   \n",
            "=================================================================\n",
            " lstm (LSTM)                 (None, 612)               1505520   \n",
            "                                                                 \n",
            " dense (Dense)               (None, 50)                30650     \n",
            "                                                                 \n",
            " dense_1 (Dense)             (None, 50)                2550      \n",
            "                                                                 \n",
            " dense_2 (Dense)             (None, 30)                1530      \n",
            "                                                                 \n",
            " dense_3 (Dense)             (None, 1)                 31        \n",
            "                                                                 \n",
            "=================================================================\n",
            "Total params: 1,540,281\n",
            "Trainable params: 1,540,281\n",
            "Non-trainable params: 0\n",
            "_________________________________________________________________\n"
          ]
        }
      ]
    },
    {
      "cell_type": "code",
      "source": [
        "model.compile(optimizer='adam', loss='mse', metrics=['mae'])"
      ],
      "metadata": {
        "id": "seoWMV6RyLqd"
      },
      "execution_count": 22,
      "outputs": []
    },
    {
      "cell_type": "code",
      "source": [
        "# fit the model\n",
        "history = model.fit(X_train, y_train, epochs=100, batch_size=32, verbose=2, validation_data=(X_val, y_val))"
      ],
      "metadata": {
        "colab": {
          "base_uri": "https://localhost:8080/"
        },
        "id": "ERLdimKOytRN",
        "outputId": "3333939b-23b3-4a27-bb27-de169b4d21fa"
      },
      "execution_count": 25,
      "outputs": [
        {
          "output_type": "stream",
          "name": "stdout",
          "text": [
            "Epoch 1/100\n",
            "24/24 - 11s - loss: 4.4165e-04 - mae: 0.0146 - val_loss: 0.0038 - val_mae: 0.0201 - 11s/epoch - 454ms/step\n",
            "Epoch 2/100\n",
            "24/24 - 11s - loss: 4.1281e-04 - mae: 0.0146 - val_loss: 0.0039 - val_mae: 0.0197 - 11s/epoch - 460ms/step\n",
            "Epoch 3/100\n",
            "24/24 - 11s - loss: 3.7406e-04 - mae: 0.0142 - val_loss: 0.0038 - val_mae: 0.0193 - 11s/epoch - 453ms/step\n",
            "Epoch 4/100\n",
            "24/24 - 12s - loss: 3.0531e-04 - mae: 0.0126 - val_loss: 0.0039 - val_mae: 0.0191 - 12s/epoch - 483ms/step\n",
            "Epoch 5/100\n",
            "24/24 - 11s - loss: 2.8913e-04 - mae: 0.0126 - val_loss: 0.0039 - val_mae: 0.0200 - 11s/epoch - 456ms/step\n",
            "Epoch 6/100\n",
            "24/24 - 11s - loss: 2.7306e-04 - mae: 0.0123 - val_loss: 0.0039 - val_mae: 0.0199 - 11s/epoch - 461ms/step\n",
            "Epoch 7/100\n",
            "24/24 - 11s - loss: 2.6608e-04 - mae: 0.0122 - val_loss: 0.0039 - val_mae: 0.0205 - 11s/epoch - 458ms/step\n",
            "Epoch 8/100\n",
            "24/24 - 11s - loss: 3.8697e-04 - mae: 0.0152 - val_loss: 0.0039 - val_mae: 0.0189 - 11s/epoch - 458ms/step\n",
            "Epoch 9/100\n",
            "24/24 - 12s - loss: 3.1223e-04 - mae: 0.0132 - val_loss: 0.0038 - val_mae: 0.0209 - 12s/epoch - 490ms/step\n",
            "Epoch 10/100\n",
            "24/24 - 11s - loss: 3.0520e-04 - mae: 0.0130 - val_loss: 0.0039 - val_mae: 0.0197 - 11s/epoch - 466ms/step\n",
            "Epoch 11/100\n",
            "24/24 - 11s - loss: 2.7082e-04 - mae: 0.0125 - val_loss: 0.0038 - val_mae: 0.0183 - 11s/epoch - 460ms/step\n",
            "Epoch 12/100\n",
            "24/24 - 11s - loss: 2.6491e-04 - mae: 0.0122 - val_loss: 0.0039 - val_mae: 0.0183 - 11s/epoch - 461ms/step\n",
            "Epoch 13/100\n",
            "24/24 - 11s - loss: 2.2860e-04 - mae: 0.0113 - val_loss: 0.0037 - val_mae: 0.0189 - 11s/epoch - 465ms/step\n",
            "Epoch 14/100\n",
            "24/24 - 11s - loss: 2.5853e-04 - mae: 0.0121 - val_loss: 0.0037 - val_mae: 0.0183 - 11s/epoch - 456ms/step\n",
            "Epoch 15/100\n",
            "24/24 - 11s - loss: 2.6289e-04 - mae: 0.0122 - val_loss: 0.0039 - val_mae: 0.0197 - 11s/epoch - 453ms/step\n",
            "Epoch 16/100\n",
            "24/24 - 11s - loss: 2.7878e-04 - mae: 0.0125 - val_loss: 0.0039 - val_mae: 0.0193 - 11s/epoch - 468ms/step\n",
            "Epoch 17/100\n",
            "24/24 - 11s - loss: 2.9778e-04 - mae: 0.0131 - val_loss: 0.0038 - val_mae: 0.0199 - 11s/epoch - 444ms/step\n",
            "Epoch 18/100\n",
            "24/24 - 11s - loss: 2.5558e-04 - mae: 0.0119 - val_loss: 0.0038 - val_mae: 0.0186 - 11s/epoch - 456ms/step\n",
            "Epoch 19/100\n",
            "24/24 - 11s - loss: 2.6394e-04 - mae: 0.0123 - val_loss: 0.0040 - val_mae: 0.0205 - 11s/epoch - 477ms/step\n",
            "Epoch 20/100\n",
            "24/24 - 11s - loss: 3.1340e-04 - mae: 0.0133 - val_loss: 0.0040 - val_mae: 0.0197 - 11s/epoch - 460ms/step\n",
            "Epoch 21/100\n",
            "24/24 - 11s - loss: 2.8221e-04 - mae: 0.0125 - val_loss: 0.0040 - val_mae: 0.0188 - 11s/epoch - 457ms/step\n",
            "Epoch 22/100\n",
            "24/24 - 11s - loss: 2.8700e-04 - mae: 0.0129 - val_loss: 0.0039 - val_mae: 0.0184 - 11s/epoch - 454ms/step\n",
            "Epoch 23/100\n",
            "24/24 - 11s - loss: 2.4164e-04 - mae: 0.0117 - val_loss: 0.0038 - val_mae: 0.0227 - 11s/epoch - 455ms/step\n",
            "Epoch 24/100\n",
            "24/24 - 11s - loss: 2.6826e-04 - mae: 0.0123 - val_loss: 0.0038 - val_mae: 0.0191 - 11s/epoch - 457ms/step\n",
            "Epoch 25/100\n",
            "24/24 - 11s - loss: 2.5972e-04 - mae: 0.0120 - val_loss: 0.0040 - val_mae: 0.0196 - 11s/epoch - 457ms/step\n",
            "Epoch 26/100\n",
            "24/24 - 11s - loss: 2.3004e-04 - mae: 0.0114 - val_loss: 0.0038 - val_mae: 0.0182 - 11s/epoch - 452ms/step\n",
            "Epoch 27/100\n",
            "24/24 - 11s - loss: 2.5050e-04 - mae: 0.0119 - val_loss: 0.0039 - val_mae: 0.0218 - 11s/epoch - 456ms/step\n",
            "Epoch 28/100\n",
            "24/24 - 11s - loss: 2.6727e-04 - mae: 0.0123 - val_loss: 0.0039 - val_mae: 0.0178 - 11s/epoch - 455ms/step\n",
            "Epoch 29/100\n",
            "24/24 - 11s - loss: 2.3804e-04 - mae: 0.0117 - val_loss: 0.0039 - val_mae: 0.0189 - 11s/epoch - 453ms/step\n",
            "Epoch 30/100\n",
            "24/24 - 10s - loss: 2.3704e-04 - mae: 0.0115 - val_loss: 0.0038 - val_mae: 0.0238 - 10s/epoch - 429ms/step\n",
            "Epoch 31/100\n",
            "24/24 - 11s - loss: 3.3180e-04 - mae: 0.0138 - val_loss: 0.0038 - val_mae: 0.0179 - 11s/epoch - 478ms/step\n",
            "Epoch 32/100\n",
            "24/24 - 11s - loss: 2.3054e-04 - mae: 0.0114 - val_loss: 0.0039 - val_mae: 0.0183 - 11s/epoch - 457ms/step\n",
            "Epoch 33/100\n",
            "24/24 - 11s - loss: 2.2906e-04 - mae: 0.0114 - val_loss: 0.0039 - val_mae: 0.0188 - 11s/epoch - 460ms/step\n",
            "Epoch 34/100\n",
            "24/24 - 11s - loss: 2.2664e-04 - mae: 0.0112 - val_loss: 0.0039 - val_mae: 0.0181 - 11s/epoch - 456ms/step\n",
            "Epoch 35/100\n",
            "24/24 - 11s - loss: 2.1919e-04 - mae: 0.0110 - val_loss: 0.0038 - val_mae: 0.0177 - 11s/epoch - 454ms/step\n",
            "Epoch 36/100\n",
            "24/24 - 11s - loss: 2.2942e-04 - mae: 0.0113 - val_loss: 0.0039 - val_mae: 0.0180 - 11s/epoch - 454ms/step\n",
            "Epoch 37/100\n",
            "24/24 - 11s - loss: 2.0831e-04 - mae: 0.0108 - val_loss: 0.0038 - val_mae: 0.0177 - 11s/epoch - 453ms/step\n",
            "Epoch 38/100\n",
            "24/24 - 11s - loss: 2.2148e-04 - mae: 0.0111 - val_loss: 0.0039 - val_mae: 0.0188 - 11s/epoch - 461ms/step\n",
            "Epoch 39/100\n",
            "24/24 - 11s - loss: 2.6144e-04 - mae: 0.0120 - val_loss: 0.0042 - val_mae: 0.0208 - 11s/epoch - 454ms/step\n",
            "Epoch 40/100\n",
            "24/24 - 11s - loss: 2.6987e-04 - mae: 0.0124 - val_loss: 0.0043 - val_mae: 0.0215 - 11s/epoch - 463ms/step\n",
            "Epoch 41/100\n",
            "24/24 - 11s - loss: 2.5506e-04 - mae: 0.0118 - val_loss: 0.0039 - val_mae: 0.0183 - 11s/epoch - 459ms/step\n",
            "Epoch 42/100\n",
            "24/24 - 11s - loss: 2.4195e-04 - mae: 0.0118 - val_loss: 0.0038 - val_mae: 0.0216 - 11s/epoch - 463ms/step\n",
            "Epoch 43/100\n",
            "24/24 - 11s - loss: 2.5532e-04 - mae: 0.0119 - val_loss: 0.0038 - val_mae: 0.0191 - 11s/epoch - 450ms/step\n",
            "Epoch 44/100\n",
            "24/24 - 11s - loss: 2.9340e-04 - mae: 0.0130 - val_loss: 0.0042 - val_mae: 0.0208 - 11s/epoch - 439ms/step\n",
            "Epoch 45/100\n",
            "24/24 - 11s - loss: 2.5784e-04 - mae: 0.0120 - val_loss: 0.0038 - val_mae: 0.0177 - 11s/epoch - 457ms/step\n",
            "Epoch 46/100\n",
            "24/24 - 12s - loss: 2.3263e-04 - mae: 0.0113 - val_loss: 0.0038 - val_mae: 0.0175 - 12s/epoch - 485ms/step\n",
            "Epoch 47/100\n",
            "24/24 - 11s - loss: 2.3537e-04 - mae: 0.0113 - val_loss: 0.0040 - val_mae: 0.0189 - 11s/epoch - 457ms/step\n",
            "Epoch 48/100\n",
            "24/24 - 11s - loss: 2.2199e-04 - mae: 0.0110 - val_loss: 0.0038 - val_mae: 0.0176 - 11s/epoch - 452ms/step\n",
            "Epoch 49/100\n",
            "24/24 - 12s - loss: 2.2818e-04 - mae: 0.0115 - val_loss: 0.0037 - val_mae: 0.0179 - 12s/epoch - 485ms/step\n",
            "Epoch 50/100\n",
            "24/24 - 12s - loss: 3.9224e-04 - mae: 0.0152 - val_loss: 0.0038 - val_mae: 0.0194 - 12s/epoch - 487ms/step\n",
            "Epoch 51/100\n",
            "24/24 - 11s - loss: 2.8146e-04 - mae: 0.0127 - val_loss: 0.0039 - val_mae: 0.0182 - 11s/epoch - 462ms/step\n",
            "Epoch 52/100\n",
            "24/24 - 11s - loss: 2.2098e-04 - mae: 0.0111 - val_loss: 0.0038 - val_mae: 0.0175 - 11s/epoch - 458ms/step\n",
            "Epoch 53/100\n",
            "24/24 - 11s - loss: 2.4704e-04 - mae: 0.0116 - val_loss: 0.0038 - val_mae: 0.0182 - 11s/epoch - 450ms/step\n",
            "Epoch 54/100\n",
            "24/24 - 11s - loss: 2.3313e-04 - mae: 0.0117 - val_loss: 0.0040 - val_mae: 0.0182 - 11s/epoch - 456ms/step\n",
            "Epoch 55/100\n",
            "24/24 - 11s - loss: 2.1709e-04 - mae: 0.0109 - val_loss: 0.0041 - val_mae: 0.0202 - 11s/epoch - 459ms/step\n",
            "Epoch 56/100\n",
            "24/24 - 11s - loss: 2.0583e-04 - mae: 0.0106 - val_loss: 0.0038 - val_mae: 0.0183 - 11s/epoch - 456ms/step\n",
            "Epoch 57/100\n",
            "24/24 - 12s - loss: 1.9235e-04 - mae: 0.0103 - val_loss: 0.0039 - val_mae: 0.0173 - 12s/epoch - 490ms/step\n",
            "Epoch 58/100\n",
            "24/24 - 12s - loss: 2.4080e-04 - mae: 0.0116 - val_loss: 0.0040 - val_mae: 0.0181 - 12s/epoch - 501ms/step\n",
            "Epoch 59/100\n",
            "24/24 - 12s - loss: 2.7614e-04 - mae: 0.0128 - val_loss: 0.0038 - val_mae: 0.0184 - 12s/epoch - 483ms/step\n",
            "Epoch 60/100\n",
            "24/24 - 11s - loss: 2.8965e-04 - mae: 0.0130 - val_loss: 0.0039 - val_mae: 0.0239 - 11s/epoch - 472ms/step\n",
            "Epoch 61/100\n",
            "24/24 - 10s - loss: 3.5421e-04 - mae: 0.0146 - val_loss: 0.0039 - val_mae: 0.0190 - 10s/epoch - 437ms/step\n",
            "Epoch 62/100\n",
            "24/24 - 11s - loss: 2.2370e-04 - mae: 0.0111 - val_loss: 0.0038 - val_mae: 0.0175 - 11s/epoch - 454ms/step\n",
            "Epoch 63/100\n",
            "24/24 - 11s - loss: 2.3965e-04 - mae: 0.0117 - val_loss: 0.0039 - val_mae: 0.0194 - 11s/epoch - 459ms/step\n",
            "Epoch 64/100\n",
            "24/24 - 11s - loss: 2.0212e-04 - mae: 0.0107 - val_loss: 0.0039 - val_mae: 0.0172 - 11s/epoch - 458ms/step\n",
            "Epoch 65/100\n",
            "24/24 - 12s - loss: 2.1852e-04 - mae: 0.0109 - val_loss: 0.0038 - val_mae: 0.0181 - 12s/epoch - 485ms/step\n",
            "Epoch 66/100\n",
            "24/24 - 11s - loss: 2.1287e-04 - mae: 0.0109 - val_loss: 0.0039 - val_mae: 0.0178 - 11s/epoch - 458ms/step\n",
            "Epoch 67/100\n",
            "24/24 - 11s - loss: 2.0058e-04 - mae: 0.0106 - val_loss: 0.0038 - val_mae: 0.0175 - 11s/epoch - 455ms/step\n",
            "Epoch 68/100\n",
            "24/24 - 12s - loss: 1.9096e-04 - mae: 0.0104 - val_loss: 0.0039 - val_mae: 0.0179 - 12s/epoch - 488ms/step\n",
            "Epoch 69/100\n",
            "24/24 - 11s - loss: 2.0431e-04 - mae: 0.0107 - val_loss: 0.0038 - val_mae: 0.0170 - 11s/epoch - 462ms/step\n",
            "Epoch 70/100\n",
            "24/24 - 11s - loss: 1.9301e-04 - mae: 0.0103 - val_loss: 0.0037 - val_mae: 0.0163 - 11s/epoch - 458ms/step\n",
            "Epoch 71/100\n",
            "24/24 - 12s - loss: 2.0754e-04 - mae: 0.0105 - val_loss: 0.0038 - val_mae: 0.0175 - 12s/epoch - 482ms/step\n",
            "Epoch 72/100\n",
            "24/24 - 12s - loss: 2.4345e-04 - mae: 0.0117 - val_loss: 0.0038 - val_mae: 0.0170 - 12s/epoch - 480ms/step\n",
            "Epoch 73/100\n",
            "24/24 - 11s - loss: 1.8207e-04 - mae: 0.0100 - val_loss: 0.0037 - val_mae: 0.0170 - 11s/epoch - 458ms/step\n",
            "Epoch 74/100\n",
            "24/24 - 11s - loss: 1.9083e-04 - mae: 0.0103 - val_loss: 0.0038 - val_mae: 0.0174 - 11s/epoch - 460ms/step\n",
            "Epoch 75/100\n",
            "24/24 - 11s - loss: 2.2966e-04 - mae: 0.0113 - val_loss: 0.0039 - val_mae: 0.0179 - 11s/epoch - 462ms/step\n",
            "Epoch 76/100\n",
            "24/24 - 12s - loss: 2.3015e-04 - mae: 0.0114 - val_loss: 0.0038 - val_mae: 0.0166 - 12s/epoch - 480ms/step\n",
            "Epoch 77/100\n",
            "24/24 - 11s - loss: 1.9241e-04 - mae: 0.0102 - val_loss: 0.0038 - val_mae: 0.0167 - 11s/epoch - 459ms/step\n",
            "Epoch 78/100\n",
            "24/24 - 11s - loss: 1.8218e-04 - mae: 0.0100 - val_loss: 0.0040 - val_mae: 0.0190 - 11s/epoch - 439ms/step\n",
            "Epoch 79/100\n",
            "24/24 - 11s - loss: 2.6902e-04 - mae: 0.0124 - val_loss: 0.0039 - val_mae: 0.0205 - 11s/epoch - 452ms/step\n",
            "Epoch 80/100\n",
            "24/24 - 11s - loss: 3.4278e-04 - mae: 0.0146 - val_loss: 0.0038 - val_mae: 0.0201 - 11s/epoch - 457ms/step\n",
            "Epoch 81/100\n",
            "24/24 - 11s - loss: 2.1375e-04 - mae: 0.0108 - val_loss: 0.0037 - val_mae: 0.0173 - 11s/epoch - 459ms/step\n",
            "Epoch 82/100\n",
            "24/24 - 12s - loss: 1.9848e-04 - mae: 0.0104 - val_loss: 0.0039 - val_mae: 0.0194 - 12s/epoch - 481ms/step\n",
            "Epoch 83/100\n",
            "24/24 - 11s - loss: 2.1479e-04 - mae: 0.0109 - val_loss: 0.0037 - val_mae: 0.0167 - 11s/epoch - 456ms/step\n",
            "Epoch 84/100\n",
            "24/24 - 11s - loss: 2.1014e-04 - mae: 0.0109 - val_loss: 0.0039 - val_mae: 0.0175 - 11s/epoch - 461ms/step\n",
            "Epoch 85/100\n",
            "24/24 - 11s - loss: 1.9874e-04 - mae: 0.0106 - val_loss: 0.0038 - val_mae: 0.0177 - 11s/epoch - 459ms/step\n",
            "Epoch 86/100\n",
            "24/24 - 12s - loss: 2.0044e-04 - mae: 0.0104 - val_loss: 0.0037 - val_mae: 0.0187 - 12s/epoch - 489ms/step\n",
            "Epoch 87/100\n",
            "24/24 - 11s - loss: 2.2166e-04 - mae: 0.0113 - val_loss: 0.0038 - val_mae: 0.0168 - 11s/epoch - 464ms/step\n",
            "Epoch 88/100\n",
            "24/24 - 12s - loss: 2.2411e-04 - mae: 0.0113 - val_loss: 0.0038 - val_mae: 0.0182 - 12s/epoch - 488ms/step\n",
            "Epoch 89/100\n",
            "24/24 - 11s - loss: 1.9520e-04 - mae: 0.0105 - val_loss: 0.0038 - val_mae: 0.0173 - 11s/epoch - 460ms/step\n",
            "Epoch 90/100\n",
            "24/24 - 12s - loss: 2.1581e-04 - mae: 0.0111 - val_loss: 0.0038 - val_mae: 0.0171 - 12s/epoch - 496ms/step\n",
            "Epoch 91/100\n",
            "24/24 - 12s - loss: 2.4350e-04 - mae: 0.0118 - val_loss: 0.0038 - val_mae: 0.0213 - 12s/epoch - 505ms/step\n",
            "Epoch 92/100\n",
            "24/24 - 13s - loss: 2.2699e-04 - mae: 0.0115 - val_loss: 0.0038 - val_mae: 0.0171 - 13s/epoch - 534ms/step\n",
            "Epoch 93/100\n",
            "24/24 - 14s - loss: 2.3555e-04 - mae: 0.0117 - val_loss: 0.0040 - val_mae: 0.0212 - 14s/epoch - 573ms/step\n",
            "Epoch 94/100\n",
            "24/24 - 11s - loss: 2.5034e-04 - mae: 0.0121 - val_loss: 0.0038 - val_mae: 0.0160 - 11s/epoch - 463ms/step\n",
            "Epoch 95/100\n",
            "24/24 - 12s - loss: 1.9636e-04 - mae: 0.0105 - val_loss: 0.0039 - val_mae: 0.0177 - 12s/epoch - 485ms/step\n",
            "Epoch 96/100\n",
            "24/24 - 11s - loss: 2.3850e-04 - mae: 0.0118 - val_loss: 0.0039 - val_mae: 0.0200 - 11s/epoch - 462ms/step\n",
            "Epoch 97/100\n",
            "24/24 - 12s - loss: 2.2026e-04 - mae: 0.0114 - val_loss: 0.0042 - val_mae: 0.0207 - 12s/epoch - 493ms/step\n",
            "Epoch 98/100\n",
            "24/24 - 11s - loss: 2.3690e-04 - mae: 0.0116 - val_loss: 0.0037 - val_mae: 0.0161 - 11s/epoch - 460ms/step\n",
            "Epoch 99/100\n",
            "24/24 - 12s - loss: 1.8534e-04 - mae: 0.0099 - val_loss: 0.0038 - val_mae: 0.0164 - 12s/epoch - 485ms/step\n",
            "Epoch 100/100\n",
            "24/24 - 11s - loss: 1.7763e-04 - mae: 0.0100 - val_loss: 0.0038 - val_mae: 0.0177 - 11s/epoch - 459ms/step\n"
          ]
        }
      ]
    },
    {
      "cell_type": "code",
      "source": [
        "# evaluate the model\n",
        "mse, mae = model.evaluate(X_test, y_test, verbose=0)\n",
        "print('MSE: %.3f, RMSE: %.3f, MAE: %.3f' % (mse, np.sqrt(mse), mae)) "
      ],
      "metadata": {
        "colab": {
          "base_uri": "https://localhost:8080/"
        },
        "id": "FisgmyDH4NYZ",
        "outputId": "7ca4a29b-1288-4c1d-a393-982b4cfdb352"
      },
      "execution_count": 26,
      "outputs": [
        {
          "output_type": "stream",
          "name": "stdout",
          "text": [
            "MSE: 0.000, RMSE: 0.014, MAE: 0.011\n"
          ]
        }
      ]
    },
    {
      "cell_type": "code",
      "source": [
        "\n",
        "# predicting y_test values\n",
        "print(X_test.shape)\n",
        "predicted_values = model.predict(X_test)\n",
        "print(predicted_values.shape)\n",
        "# print(predicted_values)\n",
        "     "
      ],
      "metadata": {
        "colab": {
          "base_uri": "https://localhost:8080/"
        },
        "id": "yI-urJK74RNJ",
        "outputId": "9a31aae3-bdea-482e-f947-9b4cb9d61b9b"
      },
      "execution_count": 27,
      "outputs": [
        {
          "output_type": "stream",
          "name": "stdout",
          "text": [
            "(240, 60, 2)\n",
            "8/8 [==============================] - 1s 103ms/step\n",
            "(240, 1)\n"
          ]
        }
      ]
    },
    {
      "cell_type": "code",
      "source": [
        "plt.plot(y_test,c = 'r')\n",
        "plt.plot(predicted_values,c = 'y')\n",
        "plt.xlabel('Day')\n",
        "plt.ylabel('Stock Price Volume')\n",
        "plt.title('Stock Price Volume Prediction Graph using RNN (LSTM)')\n",
        "plt.legend(['Actual','Predicted'],loc = 'lower right')\n",
        "plt.figure(figsize=(10,6))"
      ],
      "metadata": {
        "colab": {
          "base_uri": "https://localhost:8080/",
          "height": 507
        },
        "id": "dwTskfvh4RpQ",
        "outputId": "d8af2164-da2f-48df-aa66-4410bb048847"
      },
      "execution_count": 28,
      "outputs": [
        {
          "output_type": "execute_result",
          "data": {
            "text/plain": [
              "<Figure size 1000x600 with 0 Axes>"
            ]
          },
          "metadata": {},
          "execution_count": 28
        },
        {
          "output_type": "display_data",
          "data": {
            "text/plain": [
              "<Figure size 640x480 with 1 Axes>"
            ],
            "image/png": "[encoded data removed]"
          },
          "metadata": {}
        },
        {
          "output_type": "display_data",
          "data": {
            "text/plain": [
              "<Figure size 1000x600 with 0 Axes>"
            ]
          },
          "metadata": {}
        }
      ]
    },
    {
      "cell_type": "code",
      "source": [
        "# evaluating using R squared\n",
        "R_square = r2_score(y_test, predicted_values) \n",
        " \n",
        "print(R_square)"
      ],
      "metadata": {
        "colab": {
          "base_uri": "https://localhost:8080/"
        },
        "id": "KagwwjhE4VKs",
        "outputId": "9b8100df-fab6-420f-8cf6-a86e079ebc6e"
      },
      "execution_count": 29,
      "outputs": [
        {
          "output_type": "stream",
          "name": "stdout",
          "text": [
            "0.9970982390022133\n"
          ]
        }
      ]
    }
  ]
}